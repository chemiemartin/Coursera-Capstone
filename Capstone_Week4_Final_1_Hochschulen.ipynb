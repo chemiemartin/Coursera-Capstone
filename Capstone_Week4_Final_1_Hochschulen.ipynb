{
 "cells": [
  {
   "cell_type": "markdown",
   "metadata": {},
   "source": [
    "1. Importing and Cleaning Data\n",
    "https://de.wikipedia.org/wiki/Liste_der_Hochschulen_in_Deutschland"
   ]
  },
  {
   "cell_type": "code",
   "execution_count": 6,
   "metadata": {},
   "outputs": [
    {
     "name": "stdout",
     "output_type": "stream",
     "text": [
      "('FH Aachen ', 50.75903915000001, 6.082028949780861)\n",
      "330\n"
     ]
    }
   ],
   "source": [
    "import math\n",
    "import pandas\n",
    "dfhs = pandas.read_csv(\"hochschulen_de_gps.csv\",\";\")\n",
    "dfhs.head()\n",
    "\n",
    "hochsch = []\n",
    "\n",
    "for index, row in dfhs.iterrows():\n",
    "    #print(\"%s %f %f\" % (row['Name'],row['latitude'],row['longitude']))\n",
    "    if(not math.isnan(row['latitude'])):\n",
    "        hochsch.append((row['Name'],row['latitude'],row['longitude']))\n",
    "    #if(row['latitude'].isnull()):\n",
    "    #    print(\"data\")\n",
    "\n",
    "print(hochsch[0])\n",
    "print(len(hochsch))"
   ]
  },
  {
   "cell_type": "markdown",
   "metadata": {},
   "source": [
    "2. Plotting Map Data"
   ]
  },
  {
   "cell_type": "code",
   "execution_count": 12,
   "metadata": {},
   "outputs": [],
   "source": [
    "import folium\n",
    "from folium.features import DivIcon\n",
    "\n",
    "world_map = folium.Map(tiles=\"Stamen Toner\",location=[51.3154546,9.4924096],zoom_start=6)\n",
    "zuHause = folium.map.FeatureGroup()\n",
    "\n",
    "for i,(name,long,lat) in enumerate(hochsch):\n",
    "\n",
    "    folium.map.Marker(\n",
    "    [long,lat],\n",
    "    icon=DivIcon(\n",
    "        icon_size=(150,36),\n",
    "        icon_anchor=(0,0),\n",
    "        html='<div style=\"color:Blue;font-size: 5px;\">'+ str(i)+'</div>',\n",
    "        )\n",
    "    ).add_to(zuHause)\n",
    "    i=i+1\n",
    "world_map.add_child(zuHause)\n",
    "world_map.save(\"hochschulenMap.html\")"
   ]
  },
  {
   "cell_type": "code",
   "execution_count": 27,
   "metadata": {},
   "outputs": [],
   "source": [
    "for i,(name,long,lat) in enumerate(hochsch):\n",
    "    #print(name[0])\n",
    "    s = str(name)\n",
    "    #print(str(i)+ \" \" + str(s))"
   ]
  },
  {
   "cell_type": "code",
   "execution_count": 45,
   "metadata": {},
   "outputs": [],
   "source": [
    "x = []\n",
    "y = []\n",
    "X = [] #2D\n",
    "for i,(name,long,lat) in enumerate(hochsch):\n",
    "    #print(\"%f %f\" % (long,lat))\n",
    "    x.append(lat)\n",
    "    y.append(long)\n",
    "    X.append([lat,long])"
   ]
  },
  {
   "cell_type": "code",
   "execution_count": 49,
   "metadata": {},
   "outputs": [
    {
     "data": {
      "image/png": "[encoded data removed]",
      "text/plain": [
       "<Figure size 432x288 with 1 Axes>"
      ]
     },
     "metadata": {
      "needs_background": "light"
     },
     "output_type": "display_data"
    }
   ],
   "source": [
    "import numpy as np\n",
    "import matplotlib.pyplot as plt\n",
    "\n",
    "from sklearn.cluster import KMeans\n",
    "\n",
    "n_samples = 1500\n",
    "random_state = 170\n",
    "y_pred = KMeans(n_clusters=16, random_state=random_state).fit_predict(X)\n",
    "plt.subplot(221)\n",
    "plt.ylim(46,55)\n",
    "plt.xlim(0,20)\n",
    "plt.scatter(x,y,s=1,c=y_pred)\n",
    "plt.savefig(\"HochschulenCluster.png\",dpi=150)"
   ]
  },
  {
   "cell_type": "code",
   "execution_count": 140,
   "metadata": {
    "scrolled": false
   },
   "outputs": [
    {
     "name": "stdout",
     "output_type": "stream",
     "text": [
      "11.574660\n",
      "13.345565\n",
      "7.176199\n",
      "9.185112\n",
      "8.626824\n",
      "9.959580\n",
      "8.487741\n",
      "n_cluster=6\n"
     ]
    },
    {
     "data": {
      "image/png": "[encoded data removed]",
      "text/plain": [
       "<Figure size 432x288 with 1 Axes>"
      ]
     },
     "metadata": {
      "needs_background": "light"
     },
     "output_type": "display_data"
    }
   ],
   "source": [
    "from sklearn.cluster import DBSCAN\n",
    "from sklearn import metrics\n",
    "from sklearn.datasets import make_blobs\n",
    "from sklearn.preprocessing import StandardScaler\n",
    "\n",
    "db = DBSCAN(eps=0.3, min_samples=10).fit(X)\n",
    "labels = db.labels_                                \n",
    "colors = [ (1,0,0),(0,1,0),(0,0,1),(1,1,0),(0,1,1),(1,0,1),(1.0,0.65,0)]                                  \n",
    "\n",
    "fig, ax = plt.subplots()\n",
    "\n",
    "n_cluster = max(labels)\n",
    "\n",
    "plt.ylim(46,55)\n",
    "plt.xlim(0,20)\n",
    "for i,label in enumerate(labels):\n",
    "    if(label==-1):\n",
    "        plt.plot(x[i],y[i],'o', markerfacecolor=(0,0,0),markeredgecolor='k', markersize=1)\n",
    "    else:\n",
    "        plt.plot(x[i],y[i],'o', markerfacecolor=colors[label],markeredgecolor='k', markersize=3)\n",
    "centers =[(48.1396852909091, 11.574660390561847), (52.49932102857143, 13.345564755162135), (51.30897966022728, 7.176198619610907), (48.761562714285716, 9.18511184298376), (50.11276830416666, 8.626824078393186), (53.554746291176464, 9.959580434405437), (49.41445581538461, 8.487741071794243)]\n",
    "for i,c in enumerate(centers):\n",
    "    plt.plot(c[1],c[0],'o', markerfacecolor=colors[i],markeredgecolor='k', markersize=10)\n",
    "    print(\"%f\" % c[1])\n",
    "print(\"n_cluster=%i\" % (n_cluster) )\n",
    "#for n in range(n_cluster+1):\n",
    "#    print(\"Cluster \" + str(n+1) )\n",
    "#    for i,label in enumerate(labels):\n",
    "#        if(label==n):\n",
    "#            print(\"\\t\" + str(hochsch[i][0]))\n",
    "\n",
    "plt.savefig(\"HochschulenClusterDBScan.png\",dpi=150)"
   ]
  },
  {
   "cell_type": "code",
   "execution_count": null,
   "metadata": {},
   "outputs": [],
   "source": []
  },
  {
   "cell_type": "code",
   "execution_count": null,
   "metadata": {},
   "outputs": [],
   "source": []
  },
  {
   "cell_type": "code",
   "execution_count": null,
   "metadata": {},
   "outputs": [],
   "source": []
  },
  {
   "cell_type": "code",
   "execution_count": null,
   "metadata": {},
   "outputs": [],
   "source": []
  },
  {
   "cell_type": "code",
   "execution_count": null,
   "metadata": {},
   "outputs": [],
   "source": []
  },
  {
   "cell_type": "code",
   "execution_count": null,
   "metadata": {},
   "outputs": [],
   "source": []
  },
  {
   "cell_type": "code",
   "execution_count": 134,
   "metadata": {},
   "outputs": [
    {
     "name": "stdout",
     "output_type": "stream",
     "text": [
      "n_cluster=6\n",
      "Cluster 1\n",
      "Cluster 2\n",
      "Cluster 3\n",
      "Cluster 4\n",
      "Cluster 5\n",
      "Cluster 6\n",
      "Cluster 7\n",
      "48.139685,11.574660\n",
      "52.499321,13.345565\n",
      "51.308980,7.176199\n",
      "48.761563,9.185112\n",
      "50.112768,8.626824\n",
      "53.554746,9.959580\n",
      "49.414456,8.487741\n",
      "[(48.1396852909091, 11.574660390561847), (52.49932102857143, 13.345564755162135), (51.30897966022728, 7.176198619610907), (48.761562714285716, 9.18511184298376), (50.11276830416666, 8.626824078393186), (53.554746291176464, 9.959580434405437), (49.41445581538461, 8.487741071794243)]\n"
     ]
    }
   ],
   "source": [
    "print(\"n_cluster=%i\" % (n_cluster) )\n",
    "center = [ [0,0,0] for n in range(n_cluster+1)]\n",
    "for n in range(n_cluster+1):\n",
    "    print(\"Cluster \" + str(n+1) )\n",
    "    for i,label in enumerate(labels):\n",
    "        if(label==n):\n",
    "            #print(\"%s,%f,%f\" % (hochsch[i][0],hochsch[i][1],hochsch[i][2]))\n",
    "            #print(\"\\t\" + str(hochsch[i][0]))\n",
    "            center[n][0] += hochsch[i][1]\n",
    "            center[n][1] += hochsch[i][2]\n",
    "            center[n][2] += 1\n",
    "centers = []\n",
    "for c in center:\n",
    "    (cx,cy) = (c[0]*1.0/c[2],c[1]*1.0/c[2])\n",
    "    centers.append((cx,cy))\n",
    "    print(\"%f,%f\" % (cx,cy)) \n",
    "print(centers)"
   ]
  },
  {
   "cell_type": "code",
   "execution_count": null,
   "metadata": {},
   "outputs": [],
   "source": []
  },
  {
   "cell_type": "code",
   "execution_count": null,
   "metadata": {},
   "outputs": [],
   "source": []
  },
  {
   "cell_type": "code",
   "execution_count": null,
   "metadata": {},
   "outputs": [],
   "source": []
  },
  {
   "cell_type": "code",
   "execution_count": null,
   "metadata": {},
   "outputs": [],
   "source": []
  },
  {
   "cell_type": "code",
   "execution_count": null,
   "metadata": {},
   "outputs": [],
   "source": []
  },
  {
   "cell_type": "code",
   "execution_count": null,
   "metadata": {},
   "outputs": [],
   "source": []
  },
  {
   "cell_type": "code",
   "execution_count": null,
   "metadata": {},
   "outputs": [],
   "source": []
  },
  {
   "cell_type": "code",
   "execution_count": null,
   "metadata": {},
   "outputs": [],
   "source": []
  },
  {
   "cell_type": "code",
   "execution_count": null,
   "metadata": {},
   "outputs": [],
   "source": []
  },
  {
   "cell_type": "code",
   "execution_count": null,
   "metadata": {},
   "outputs": [],
   "source": []
  },
  {
   "cell_type": "code",
   "execution_count": null,
   "metadata": {},
   "outputs": [],
   "source": []
  },
  {
   "cell_type": "code",
   "execution_count": null,
   "metadata": {},
   "outputs": [],
   "source": []
  },
  {
   "cell_type": "code",
   "execution_count": null,
   "metadata": {},
   "outputs": [],
   "source": []
  },
  {
   "cell_type": "code",
   "execution_count": null,
   "metadata": {},
   "outputs": [],
   "source": []
  },
  {
   "cell_type": "code",
   "execution_count": null,
   "metadata": {},
   "outputs": [],
   "source": []
  },
  {
   "cell_type": "code",
   "execution_count": null,
   "metadata": {},
   "outputs": [],
   "source": []
  },
  {
   "cell_type": "code",
   "execution_count": null,
   "metadata": {},
   "outputs": [],
   "source": []
  },
  {
   "cell_type": "code",
   "execution_count": 133,
   "metadata": {},
   "outputs": [
    {
     "name": "stdout",
     "output_type": "stream",
     "text": [
      "n_cluster=6\n",
      "Cluster 1\n",
      "Cluster 2\n",
      "Cluster 3\n",
      "Cluster 4\n",
      "Cluster 5\n",
      "Cluster 6\n",
      "Cluster 7\n",
      "48.139685,11.574660\n",
      "52.499321,13.345565\n",
      "51.308980,7.176199\n",
      "48.761563,9.185112\n",
      "50.112768,8.626824\n",
      "53.554746,9.959580\n",
      "49.414456,8.487741\n",
      "[(48.1396852909091, 11.574660390561847), (52.49932102857143, 13.345564755162135), (51.30897966022728, 7.176198619610907), (48.761562714285716, 9.18511184298376), (50.11276830416666, 8.626824078393186), (53.554746291176464, 9.959580434405437), (49.41445581538461, 8.487741071794243)]\n"
     ]
    }
   ],
   "source": [
    "print(\"n_cluster=%i\" % (n_cluster) )\n",
    "center = [ [0,0,0] for n in range(n_cluster+1)]\n",
    "for n in range(n_cluster+1):\n",
    "    print(\"Cluster \" + str(n+1) )\n",
    "    for i,label in enumerate(labels):\n",
    "        if(label==n):\n",
    "            #print(\"%s,%f,%f\" % (hochsch[i][0],hochsch[i][1],hochsch[i][2]))\n",
    "            #print(\"\\t\" + str(hochsch[i][0]))\n",
    "            center[n][0] += hochsch[i][1]\n",
    "            center[n][1] += hochsch[i][2]\n",
    "            center[n][2] += 1\n",
    "centers = []\n",
    "for c in center:\n",
    "    (cx,cy) = (c[0]*1.0/c[2],c[1]*1.0/c[2])\n",
    "    centers.append((cx,cy))\n",
    "    print(\"%f,%f\" % (cx,cy)) \n",
    "print(centers)\n"
   ]
  },
  {
   "cell_type": "code",
   "execution_count": null,
   "metadata": {},
   "outputs": [],
   "source": []
  },
  {
   "cell_type": "code",
   "execution_count": null,
   "metadata": {},
   "outputs": [],
   "source": []
  },
  {
   "cell_type": "code",
   "execution_count": null,
   "metadata": {},
   "outputs": [],
   "source": []
  },
  {
   "cell_type": "code",
   "execution_count": null,
   "metadata": {},
   "outputs": [],
   "source": []
  },
  {
   "cell_type": "code",
   "execution_count": null,
   "metadata": {},
   "outputs": [],
   "source": []
  },
  {
   "cell_type": "code",
   "execution_count": null,
   "metadata": {},
   "outputs": [],
   "source": []
  },
  {
   "cell_type": "code",
   "execution_count": null,
   "metadata": {},
   "outputs": [],
   "source": []
  },
  {
   "cell_type": "code",
   "execution_count": null,
   "metadata": {},
   "outputs": [],
   "source": []
  },
  {
   "cell_type": "code",
   "execution_count": null,
   "metadata": {},
   "outputs": [],
   "source": []
  },
  {
   "cell_type": "code",
   "execution_count": null,
   "metadata": {},
   "outputs": [],
   "source": []
  },
  {
   "cell_type": "code",
   "execution_count": null,
   "metadata": {},
   "outputs": [],
   "source": []
  },
  {
   "cell_type": "code",
   "execution_count": null,
   "metadata": {},
   "outputs": [],
   "source": []
  },
  {
   "cell_type": "code",
   "execution_count": null,
   "metadata": {},
   "outputs": [],
   "source": []
  },
  {
   "cell_type": "code",
   "execution_count": null,
   "metadata": {},
   "outputs": [],
   "source": []
  },
  {
   "cell_type": "code",
   "execution_count": null,
   "metadata": {},
   "outputs": [],
   "source": []
  },
  {
   "cell_type": "code",
   "execution_count": null,
   "metadata": {},
   "outputs": [],
   "source": []
  },
  {
   "cell_type": "code",
   "execution_count": null,
   "metadata": {},
   "outputs": [],
   "source": []
  },
  {
   "cell_type": "code",
   "execution_count": null,
   "metadata": {},
   "outputs": [],
   "source": []
  },
  {
   "cell_type": "code",
   "execution_count": null,
   "metadata": {},
   "outputs": [],
   "source": []
  },
  {
   "cell_type": "code",
   "execution_count": null,
   "metadata": {},
   "outputs": [],
   "source": []
  },
  {
   "cell_type": "code",
   "execution_count": null,
   "metadata": {},
   "outputs": [],
   "source": []
  },
  {
   "cell_type": "code",
   "execution_count": null,
   "metadata": {},
   "outputs": [],
   "source": []
  },
  {
   "cell_type": "code",
   "execution_count": null,
   "metadata": {},
   "outputs": [],
   "source": []
  },
  {
   "cell_type": "code",
   "execution_count": null,
   "metadata": {},
   "outputs": [],
   "source": []
  },
  {
   "cell_type": "code",
   "execution_count": null,
   "metadata": {},
   "outputs": [],
   "source": []
  },
  {
   "cell_type": "code",
   "execution_count": null,
   "metadata": {},
   "outputs": [],
   "source": []
  },
  {
   "cell_type": "code",
   "execution_count": null,
   "metadata": {},
   "outputs": [],
   "source": []
  },
  {
   "cell_type": "code",
   "execution_count": null,
   "metadata": {},
   "outputs": [],
   "source": []
  },
  {
   "cell_type": "code",
   "execution_count": null,
   "metadata": {},
   "outputs": [],
   "source": []
  },
  {
   "cell_type": "code",
   "execution_count": null,
   "metadata": {},
   "outputs": [],
   "source": []
  },
  {
   "cell_type": "code",
   "execution_count": null,
   "metadata": {},
   "outputs": [],
   "source": []
  },
  {
   "cell_type": "code",
   "execution_count": null,
   "metadata": {},
   "outputs": [],
   "source": []
  },
  {
   "cell_type": "code",
   "execution_count": null,
   "metadata": {},
   "outputs": [],
   "source": []
  },
  {
   "cell_type": "code",
   "execution_count": null,
   "metadata": {},
   "outputs": [],
   "source": []
  },
  {
   "cell_type": "code",
   "execution_count": null,
   "metadata": {},
   "outputs": [],
   "source": []
  },
  {
   "cell_type": "code",
   "execution_count": null,
   "metadata": {},
   "outputs": [],
   "source": []
  },
  {
   "cell_type": "code",
   "execution_count": null,
   "metadata": {},
   "outputs": [],
   "source": []
  },
  {
   "cell_type": "code",
   "execution_count": null,
   "metadata": {},
   "outputs": [],
   "source": []
  },
  {
   "cell_type": "code",
   "execution_count": null,
   "metadata": {},
   "outputs": [],
   "source": []
  },
  {
   "cell_type": "code",
   "execution_count": null,
   "metadata": {},
   "outputs": [],
   "source": []
  },
  {
   "cell_type": "code",
   "execution_count": null,
   "metadata": {},
   "outputs": [],
   "source": []
  },
  {
   "cell_type": "code",
   "execution_count": null,
   "metadata": {},
   "outputs": [],
   "source": []
  },
  {
   "cell_type": "code",
   "execution_count": null,
   "metadata": {},
   "outputs": [],
   "source": []
  },
  {
   "cell_type": "code",
   "execution_count": null,
   "metadata": {},
   "outputs": [],
   "source": []
  },
  {
   "cell_type": "code",
   "execution_count": null,
   "metadata": {},
   "outputs": [],
   "source": []
  },
  {
   "cell_type": "code",
   "execution_count": null,
   "metadata": {},
   "outputs": [],
   "source": []
  },
  {
   "cell_type": "code",
   "execution_count": null,
   "metadata": {},
   "outputs": [],
   "source": []
  },
  {
   "cell_type": "code",
   "execution_count": null,
   "metadata": {},
   "outputs": [],
   "source": []
  },
  {
   "cell_type": "code",
   "execution_count": null,
   "metadata": {},
   "outputs": [],
   "source": []
  },
  {
   "cell_type": "code",
   "execution_count": null,
   "metadata": {},
   "outputs": [],
   "source": []
  },
  {
   "cell_type": "code",
   "execution_count": null,
   "metadata": {},
   "outputs": [],
   "source": []
  },
  {
   "cell_type": "code",
   "execution_count": null,
   "metadata": {},
   "outputs": [],
   "source": []
  },
  {
   "cell_type": "code",
   "execution_count": null,
   "metadata": {},
   "outputs": [],
   "source": []
  },
  {
   "cell_type": "code",
   "execution_count": null,
   "metadata": {},
   "outputs": [],
   "source": []
  },
  {
   "cell_type": "code",
   "execution_count": null,
   "metadata": {},
   "outputs": [],
   "source": []
  },
  {
   "cell_type": "code",
   "execution_count": null,
   "metadata": {},
   "outputs": [],
   "source": []
  },
  {
   "cell_type": "code",
   "execution_count": null,
   "metadata": {},
   "outputs": [],
   "source": []
  },
  {
   "cell_type": "code",
   "execution_count": null,
   "metadata": {},
   "outputs": [],
   "source": []
  },
  {
   "cell_type": "code",
   "execution_count": null,
   "metadata": {},
   "outputs": [],
   "source": []
  },
  {
   "cell_type": "code",
   "execution_count": null,
   "metadata": {},
   "outputs": [],
   "source": []
  },
  {
   "cell_type": "code",
   "execution_count": null,
   "metadata": {},
   "outputs": [],
   "source": []
  },
  {
   "cell_type": "code",
   "execution_count": null,
   "metadata": {},
   "outputs": [],
   "source": []
  },
  {
   "cell_type": "code",
   "execution_count": null,
   "metadata": {},
   "outputs": [],
   "source": []
  },
  {
   "cell_type": "code",
   "execution_count": null,
   "metadata": {},
   "outputs": [],
   "source": []
  },
  {
   "cell_type": "code",
   "execution_count": null,
   "metadata": {},
   "outputs": [],
   "source": []
  },
  {
   "cell_type": "code",
   "execution_count": null,
   "metadata": {},
   "outputs": [],
   "source": []
  },
  {
   "cell_type": "code",
   "execution_count": null,
   "metadata": {},
   "outputs": [],
   "source": []
  },
  {
   "cell_type": "code",
   "execution_count": null,
   "metadata": {},
   "outputs": [],
   "source": []
  },
  {
   "cell_type": "code",
   "execution_count": null,
   "metadata": {},
   "outputs": [],
   "source": []
  },
  {
   "cell_type": "code",
   "execution_count": null,
   "metadata": {},
   "outputs": [],
   "source": []
  },
  {
   "cell_type": "code",
   "execution_count": null,
   "metadata": {},
   "outputs": [],
   "source": []
  },
  {
   "cell_type": "code",
   "execution_count": null,
   "metadata": {},
   "outputs": [],
   "source": []
  },
  {
   "cell_type": "code",
   "execution_count": null,
   "metadata": {},
   "outputs": [],
   "source": []
  },
  {
   "cell_type": "code",
   "execution_count": null,
   "metadata": {},
   "outputs": [],
   "source": []
  },
  {
   "cell_type": "code",
   "execution_count": null,
   "metadata": {},
   "outputs": [],
   "source": []
  },
  {
   "cell_type": "code",
   "execution_count": 43,
   "metadata": {},
   "outputs": [
    {
     "ename": "ValueError",
     "evalue": "Expected 2D array, got 1D array instead:\narray=[  6.08202895   6.06892079  10.0939788    9.03248917   9.16168597\n  11.492425    10.8989066   11.5629942    8.650339     6.7666161\n   9.96257591  10.90401466  11.57232227  11.58722662  13.3944489\n  13.60620419  13.39364421  13.3149908   13.3285863   13.35322984\n  13.4467241    2.3176561   13.26149469  13.52471692  13.5267185\n  13.29219395   7.0234629   13.4035367   13.38283098  13.39356049\n  13.37210586  13.53395848  13.43955128   6.8036996   13.32135319\n  13.47396515  13.32695414  13.21329684  13.33428135   9.78751243\n   8.49274717   8.52524062   8.49322328   7.92487273   7.20998762\n   7.25283103   7.2717863    7.2448018    7.26096541   7.21246472\n   7.11296054   7.1022465    7.18223804  12.53720394  12.54811961\n  10.50099697  10.53510489   8.79305835   8.80996703   8.7970502\n   8.65116522   8.85566459   8.58845174   6.90691081   6.88056204\n   9.70474226  12.92962043  10.34550528  10.95196483  13.98591658\n   8.62750261   8.63900516  12.95469775   8.876208     7.45692048\n   7.40627933   7.41225373  13.7992602   13.76027962  13.754799\n  13.74255471  13.72518431  13.73569156  13.77175553  13.73598275\n   7.00583865   6.79122731   6.79351294   6.77403674   6.77221872\n   8.13124401  11.19011404   9.6721231   13.00303149   7.1843534\n  11.04275718  11.00954743  11.01473385   7.00447082   7.0776887\n   9.32270747   9.4504433    9.45638793   8.69233921   8.68023232\n   8.6762253    8.71237775   8.67481109  14.55740252  13.33184304\n   7.83342462   7.8038795    7.8567203    7.89617885  11.98327785\n   9.43361557   9.68598591   9.67097833   8.82133119   7.94895915\n   7.1185794    7.03007271  10.32050872  12.07200475   8.69316286\n   8.6758649    9.95244415   9.9332318   13.3752877    7.82473148\n   7.49515403  11.9573148   11.96652873  11.97331039   9.98347676\n -49.0664211   10.0710984   10.00486562   9.1893926   10.01775298\n  10.03157838   9.99910926   9.96947      9.99437191   9.9929659\n   9.96922643   9.97405144   9.35518075   7.840819     7.8111523\n   9.77346175   9.72412016   9.72188471   9.80434975  10.5986063\n   9.12243891   8.70163635   8.6838818    8.6691206    8.6508929\n   9.20993289  10.10111347   9.97594376   9.45092107  10.02204819\n   8.26618906  10.93655205  11.43351249   8.5827391  108.327887\n   7.69631037  10.0373714   11.56875514  11.56858072   7.76314662\n   7.75421415   8.42655742   8.3889951    8.39405152   8.4331256\n   8.39275654   8.38682452   8.38367671   9.41446512   9.48899382\n   9.8549227    7.81700106  10.11307301  10.18003052  10.12917424\n   7.56938669   7.5592278    9.18824388   6.92817447   6.8697729\n   6.98895328   6.96106781   6.9621022    6.92817447   6.90013404\n  12.1968087   12.350171    12.36795786  12.3668529   12.37555487\n  12.37863857   8.9070016    8.7278475    9.1933697    9.1910838\n   9.19611698   9.1837186    9.1831892    8.42311653  10.699005\n  10.40152068  10.6813994   10.69139038  11.64471248  11.67577693\n   8.2283306    8.25301046   8.23708474   8.48478984   8.4819024\n   8.45714537   8.4645749    8.7639282    8.78386399   8.771248\n  13.48963108  11.97439601  12.97028762  11.58003433  11.55314319\n  11.5696234   11.5676923   11.58336728  11.5629942   11.57983565\n  11.5578513   11.56775314  11.6359753    7.6448989    7.6417805\n   7.60142352   7.64786247   7.61313574  10.01010115  13.24456491\n  10.77828887  10.81046502   7.5335072   11.13467636  11.0604708\n  11.10852198  11.09399955   9.3415826    9.3519086    8.55548008\n   8.76464825   7.94247571   8.18150787  13.26545965   8.02152488\n   8.03818791   9.1629966    8.7364879    8.7549447    8.77232915\n  13.45193779   8.71669806  13.0507812   13.11659496  12.97128513\n  12.09860409  12.09399283  12.09626442   9.18600123   7.4275142\n  12.10821663  12.14441926  12.111909    14.96521611   8.94280301\n   6.98475437   6.99986054  10.46497435   9.79334553   9.82790448\n   8.019549     8.41462997  13.07296296   9.19537664   9.10102977\n   9.1863175    9.17246878   9.20992891   9.17465      9.21208986\n   9.10326754   6.62869012   6.67562395   8.63711465   9.040413\n   9.99770127   9.9559596    7.62715616   7.61327971   8.2795281\n   8.29488193   8.5142163    9.72839634  10.65400945  11.33010919\n  11.3314553    9.64410806  13.63031385  11.44599534   7.3570838\n   8.34457367   7.14951881   7.17136243   9.963518     9.94083936\n   9.95158268  14.8066328   10.0679933   12.50322234  10.1095971 ].\nReshape your data either using array.reshape(-1, 1) if your data has a single feature or array.reshape(1, -1) if it contains a single sample.",
     "output_type": "error",
     "traceback": [
      "\u001b[1;31m---------------------------------------------------------------------------\u001b[0m",
      "\u001b[1;31mValueError\u001b[0m                                Traceback (most recent call last)",
      "\u001b[1;32m<ipython-input-43-8d759b250d2e>\u001b[0m in \u001b[0;36m<module>\u001b[1;34m\u001b[0m\n\u001b[0;32m     10\u001b[0m \u001b[1;33m\u001b[0m\u001b[0m\n\u001b[0;32m     11\u001b[0m \u001b[1;31m# Incorrect number of clusters\u001b[0m\u001b[1;33m\u001b[0m\u001b[1;33m\u001b[0m\u001b[1;33m\u001b[0m\u001b[0m\n\u001b[1;32m---> 12\u001b[1;33m \u001b[0my_pred\u001b[0m \u001b[1;33m=\u001b[0m \u001b[0mKMeans\u001b[0m\u001b[1;33m(\u001b[0m\u001b[0mn_clusters\u001b[0m\u001b[1;33m=\u001b[0m\u001b[1;36m6\u001b[0m\u001b[1;33m,\u001b[0m \u001b[0mrandom_state\u001b[0m\u001b[1;33m=\u001b[0m\u001b[0mrandom_state\u001b[0m\u001b[1;33m)\u001b[0m\u001b[1;33m.\u001b[0m\u001b[0mfit_predict\u001b[0m\u001b[1;33m(\u001b[0m\u001b[0mX\u001b[0m\u001b[1;33m)\u001b[0m\u001b[1;33m\u001b[0m\u001b[1;33m\u001b[0m\u001b[0m\n\u001b[0m\u001b[0;32m     13\u001b[0m \u001b[1;33m\u001b[0m\u001b[0m\n\u001b[0;32m     14\u001b[0m \u001b[0mplt\u001b[0m\u001b[1;33m.\u001b[0m\u001b[0msubplot\u001b[0m\u001b[1;33m(\u001b[0m\u001b[1;36m221\u001b[0m\u001b[1;33m)\u001b[0m\u001b[1;33m\u001b[0m\u001b[1;33m\u001b[0m\u001b[0m\n",
      "\u001b[1;32mC:\\ProgramData\\Anaconda3\\lib\\site-packages\\sklearn\\cluster\\_kmeans.py\u001b[0m in \u001b[0;36mfit_predict\u001b[1;34m(self, X, y, sample_weight)\u001b[0m\n\u001b[0;32m   1006\u001b[0m             \u001b[0mIndex\u001b[0m \u001b[0mof\u001b[0m \u001b[0mthe\u001b[0m \u001b[0mcluster\u001b[0m \u001b[0meach\u001b[0m \u001b[0msample\u001b[0m \u001b[0mbelongs\u001b[0m \u001b[0mto\u001b[0m\u001b[1;33m.\u001b[0m\u001b[1;33m\u001b[0m\u001b[1;33m\u001b[0m\u001b[0m\n\u001b[0;32m   1007\u001b[0m         \"\"\"\n\u001b[1;32m-> 1008\u001b[1;33m         \u001b[1;32mreturn\u001b[0m \u001b[0mself\u001b[0m\u001b[1;33m.\u001b[0m\u001b[0mfit\u001b[0m\u001b[1;33m(\u001b[0m\u001b[0mX\u001b[0m\u001b[1;33m,\u001b[0m \u001b[0msample_weight\u001b[0m\u001b[1;33m=\u001b[0m\u001b[0msample_weight\u001b[0m\u001b[1;33m)\u001b[0m\u001b[1;33m.\u001b[0m\u001b[0mlabels_\u001b[0m\u001b[1;33m\u001b[0m\u001b[1;33m\u001b[0m\u001b[0m\n\u001b[0m\u001b[0;32m   1009\u001b[0m \u001b[1;33m\u001b[0m\u001b[0m\n\u001b[0;32m   1010\u001b[0m     \u001b[1;32mdef\u001b[0m \u001b[0mfit_transform\u001b[0m\u001b[1;33m(\u001b[0m\u001b[0mself\u001b[0m\u001b[1;33m,\u001b[0m \u001b[0mX\u001b[0m\u001b[1;33m,\u001b[0m \u001b[0my\u001b[0m\u001b[1;33m=\u001b[0m\u001b[1;32mNone\u001b[0m\u001b[1;33m,\u001b[0m \u001b[0msample_weight\u001b[0m\u001b[1;33m=\u001b[0m\u001b[1;32mNone\u001b[0m\u001b[1;33m)\u001b[0m\u001b[1;33m:\u001b[0m\u001b[1;33m\u001b[0m\u001b[1;33m\u001b[0m\u001b[0m\n",
      "\u001b[1;32mC:\\ProgramData\\Anaconda3\\lib\\site-packages\\sklearn\\cluster\\_kmeans.py\u001b[0m in \u001b[0;36mfit\u001b[1;34m(self, X, y, sample_weight)\u001b[0m\n\u001b[0;32m    857\u001b[0m         \u001b[0morder\u001b[0m \u001b[1;33m=\u001b[0m \u001b[1;34m\"C\"\u001b[0m \u001b[1;32mif\u001b[0m \u001b[0mself\u001b[0m\u001b[1;33m.\u001b[0m\u001b[0mcopy_x\u001b[0m \u001b[1;32melse\u001b[0m \u001b[1;32mNone\u001b[0m\u001b[1;33m\u001b[0m\u001b[1;33m\u001b[0m\u001b[0m\n\u001b[0;32m    858\u001b[0m         X = check_array(X, accept_sparse='csr', dtype=[np.float64, np.float32],\n\u001b[1;32m--> 859\u001b[1;33m                         order=order, copy=self.copy_x)\n\u001b[0m\u001b[0;32m    860\u001b[0m         \u001b[1;31m# verify that the number of samples given is larger than k\u001b[0m\u001b[1;33m\u001b[0m\u001b[1;33m\u001b[0m\u001b[1;33m\u001b[0m\u001b[0m\n\u001b[0;32m    861\u001b[0m         \u001b[1;32mif\u001b[0m \u001b[0m_num_samples\u001b[0m\u001b[1;33m(\u001b[0m\u001b[0mX\u001b[0m\u001b[1;33m)\u001b[0m \u001b[1;33m<\u001b[0m \u001b[0mself\u001b[0m\u001b[1;33m.\u001b[0m\u001b[0mn_clusters\u001b[0m\u001b[1;33m:\u001b[0m\u001b[1;33m\u001b[0m\u001b[1;33m\u001b[0m\u001b[0m\n",
      "\u001b[1;32mC:\\ProgramData\\Anaconda3\\lib\\site-packages\\sklearn\\utils\\validation.py\u001b[0m in \u001b[0;36mcheck_array\u001b[1;34m(array, accept_sparse, accept_large_sparse, dtype, order, copy, force_all_finite, ensure_2d, allow_nd, ensure_min_samples, ensure_min_features, warn_on_dtype, estimator)\u001b[0m\n\u001b[0;32m    554\u001b[0m                     \u001b[1;34m\"Reshape your data either using array.reshape(-1, 1) if \"\u001b[0m\u001b[1;33m\u001b[0m\u001b[1;33m\u001b[0m\u001b[0m\n\u001b[0;32m    555\u001b[0m                     \u001b[1;34m\"your data has a single feature or array.reshape(1, -1) \"\u001b[0m\u001b[1;33m\u001b[0m\u001b[1;33m\u001b[0m\u001b[0m\n\u001b[1;32m--> 556\u001b[1;33m                     \"if it contains a single sample.\".format(array))\n\u001b[0m\u001b[0;32m    557\u001b[0m \u001b[1;33m\u001b[0m\u001b[0m\n\u001b[0;32m    558\u001b[0m         \u001b[1;31m# in the future np.flexible dtypes will be handled like object dtypes\u001b[0m\u001b[1;33m\u001b[0m\u001b[1;33m\u001b[0m\u001b[1;33m\u001b[0m\u001b[0m\n",
      "\u001b[1;31mValueError\u001b[0m: Expected 2D array, got 1D array instead:\narray=[  6.08202895   6.06892079  10.0939788    9.03248917   9.16168597\n  11.492425    10.8989066   11.5629942    8.650339     6.7666161\n   9.96257591  10.90401466  11.57232227  11.58722662  13.3944489\n  13.60620419  13.39364421  13.3149908   13.3285863   13.35322984\n  13.4467241    2.3176561   13.26149469  13.52471692  13.5267185\n  13.29219395   7.0234629   13.4035367   13.38283098  13.39356049\n  13.37210586  13.53395848  13.43955128   6.8036996   13.32135319\n  13.47396515  13.32695414  13.21329684  13.33428135   9.78751243\n   8.49274717   8.52524062   8.49322328   7.92487273   7.20998762\n   7.25283103   7.2717863    7.2448018    7.26096541   7.21246472\n   7.11296054   7.1022465    7.18223804  12.53720394  12.54811961\n  10.50099697  10.53510489   8.79305835   8.80996703   8.7970502\n   8.65116522   8.85566459   8.58845174   6.90691081   6.88056204\n   9.70474226  12.92962043  10.34550528  10.95196483  13.98591658\n   8.62750261   8.63900516  12.95469775   8.876208     7.45692048\n   7.40627933   7.41225373  13.7992602   13.76027962  13.754799\n  13.74255471  13.72518431  13.73569156  13.77175553  13.73598275\n   7.00583865   6.79122731   6.79351294   6.77403674   6.77221872\n   8.13124401  11.19011404   9.6721231   13.00303149   7.1843534\n  11.04275718  11.00954743  11.01473385   7.00447082   7.0776887\n   9.32270747   9.4504433    9.45638793   8.69233921   8.68023232\n   8.6762253    8.71237775   8.67481109  14.55740252  13.33184304\n   7.83342462   7.8038795    7.8567203    7.89617885  11.98327785\n   9.43361557   9.68598591   9.67097833   8.82133119   7.94895915\n   7.1185794    7.03007271  10.32050872  12.07200475   8.69316286\n   8.6758649    9.95244415   9.9332318   13.3752877    7.82473148\n   7.49515403  11.9573148   11.96652873  11.97331039   9.98347676\n -49.0664211   10.0710984   10.00486562   9.1893926   10.01775298\n  10.03157838   9.99910926   9.96947      9.99437191   9.9929659\n   9.96922643   9.97405144   9.35518075   7.840819     7.8111523\n   9.77346175   9.72412016   9.72188471   9.80434975  10.5986063\n   9.12243891   8.70163635   8.6838818    8.6691206    8.6508929\n   9.20993289  10.10111347   9.97594376   9.45092107  10.02204819\n   8.26618906  10.93655205  11.43351249   8.5827391  108.327887\n   7.69631037  10.0373714   11.56875514  11.56858072   7.76314662\n   7.75421415   8.42655742   8.3889951    8.39405152   8.4331256\n   8.39275654   8.38682452   8.38367671   9.41446512   9.48899382\n   9.8549227    7.81700106  10.11307301  10.18003052  10.12917424\n   7.56938669   7.5592278    9.18824388   6.92817447   6.8697729\n   6.98895328   6.96106781   6.9621022    6.92817447   6.90013404\n  12.1968087   12.350171    12.36795786  12.3668529   12.37555487\n  12.37863857   8.9070016    8.7278475    9.1933697    9.1910838\n   9.19611698   9.1837186    9.1831892    8.42311653  10.699005\n  10.40152068  10.6813994   10.69139038  11.64471248  11.67577693\n   8.2283306    8.25301046   8.23708474   8.48478984   8.4819024\n   8.45714537   8.4645749    8.7639282    8.78386399   8.771248\n  13.48963108  11.97439601  12.97028762  11.58003433  11.55314319\n  11.5696234   11.5676923   11.58336728  11.5629942   11.57983565\n  11.5578513   11.56775314  11.6359753    7.6448989    7.6417805\n   7.60142352   7.64786247   7.61313574  10.01010115  13.24456491\n  10.77828887  10.81046502   7.5335072   11.13467636  11.0604708\n  11.10852198  11.09399955   9.3415826    9.3519086    8.55548008\n   8.76464825   7.94247571   8.18150787  13.26545965   8.02152488\n   8.03818791   9.1629966    8.7364879    8.7549447    8.77232915\n  13.45193779   8.71669806  13.0507812   13.11659496  12.97128513\n  12.09860409  12.09399283  12.09626442   9.18600123   7.4275142\n  12.10821663  12.14441926  12.111909    14.96521611   8.94280301\n   6.98475437   6.99986054  10.46497435   9.79334553   9.82790448\n   8.019549     8.41462997  13.07296296   9.19537664   9.10102977\n   9.1863175    9.17246878   9.20992891   9.17465      9.21208986\n   9.10326754   6.62869012   6.67562395   8.63711465   9.040413\n   9.99770127   9.9559596    7.62715616   7.61327971   8.2795281\n   8.29488193   8.5142163    9.72839634  10.65400945  11.33010919\n  11.3314553    9.64410806  13.63031385  11.44599534   7.3570838\n   8.34457367   7.14951881   7.17136243   9.963518     9.94083936\n   9.95158268  14.8066328   10.0679933   12.50322234  10.1095971 ].\nReshape your data either using array.reshape(-1, 1) if your data has a single feature or array.reshape(1, -1) if it contains a single sample."
     ]
    }
   ],
   "source": []
  },
  {
   "cell_type": "code",
   "execution_count": null,
   "metadata": {},
   "outputs": [],
   "source": []
  },
  {
   "cell_type": "code",
   "execution_count": null,
   "metadata": {},
   "outputs": [],
   "source": []
  },
  {
   "cell_type": "code",
   "execution_count": null,
   "metadata": {},
   "outputs": [],
   "source": []
  },
  {
   "cell_type": "code",
   "execution_count": null,
   "metadata": {},
   "outputs": [],
   "source": []
  },
  {
   "cell_type": "code",
   "execution_count": null,
   "metadata": {},
   "outputs": [],
   "source": []
  },
  {
   "cell_type": "code",
   "execution_count": null,
   "metadata": {},
   "outputs": [],
   "source": []
  },
  {
   "cell_type": "code",
   "execution_count": null,
   "metadata": {},
   "outputs": [],
   "source": []
  },
  {
   "cell_type": "code",
   "execution_count": null,
   "metadata": {},
   "outputs": [],
   "source": []
  },
  {
   "cell_type": "code",
   "execution_count": null,
   "metadata": {},
   "outputs": [],
   "source": []
  },
  {
   "cell_type": "code",
   "execution_count": null,
   "metadata": {},
   "outputs": [],
   "source": []
  },
  {
   "cell_type": "code",
   "execution_count": null,
   "metadata": {},
   "outputs": [],
   "source": []
  },
  {
   "cell_type": "code",
   "execution_count": null,
   "metadata": {},
   "outputs": [],
   "source": [
    "for i,(name,long,lat) in enumerate(hochsch):"
   ]
  },
  {
   "cell_type": "code",
   "execution_count": null,
   "metadata": {},
   "outputs": [],
   "source": []
  },
  {
   "cell_type": "code",
   "execution_count": null,
   "metadata": {},
   "outputs": [],
   "source": []
  },
  {
   "cell_type": "code",
   "execution_count": null,
   "metadata": {},
   "outputs": [],
   "source": []
  },
  {
   "cell_type": "code",
   "execution_count": null,
   "metadata": {},
   "outputs": [],
   "source": []
  },
  {
   "cell_type": "code",
   "execution_count": null,
   "metadata": {},
   "outputs": [],
   "source": []
  },
  {
   "cell_type": "code",
   "execution_count": null,
   "metadata": {},
   "outputs": [],
   "source": []
  },
  {
   "cell_type": "code",
   "execution_count": null,
   "metadata": {},
   "outputs": [],
   "source": []
  },
  {
   "cell_type": "code",
   "execution_count": null,
   "metadata": {},
   "outputs": [],
   "source": []
  },
  {
   "cell_type": "code",
   "execution_count": null,
   "metadata": {},
   "outputs": [],
   "source": []
  },
  {
   "cell_type": "code",
   "execution_count": null,
   "metadata": {},
   "outputs": [],
   "source": []
  },
  {
   "cell_type": "code",
   "execution_count": null,
   "metadata": {},
   "outputs": [],
   "source": []
  },
  {
   "cell_type": "code",
   "execution_count": null,
   "metadata": {},
   "outputs": [],
   "source": []
  },
  {
   "cell_type": "code",
   "execution_count": null,
   "metadata": {},
   "outputs": [],
   "source": []
  },
  {
   "cell_type": "code",
   "execution_count": null,
   "metadata": {},
   "outputs": [],
   "source": []
  },
  {
   "cell_type": "code",
   "execution_count": null,
   "metadata": {},
   "outputs": [],
   "source": []
  },
  {
   "cell_type": "code",
   "execution_count": null,
   "metadata": {},
   "outputs": [],
   "source": []
  },
  {
   "cell_type": "code",
   "execution_count": null,
   "metadata": {},
   "outputs": [],
   "source": []
  },
  {
   "cell_type": "code",
   "execution_count": null,
   "metadata": {},
   "outputs": [],
   "source": []
  },
  {
   "cell_type": "code",
   "execution_count": null,
   "metadata": {},
   "outputs": [],
   "source": []
  },
  {
   "cell_type": "code",
   "execution_count": null,
   "metadata": {},
   "outputs": [],
   "source": []
  },
  {
   "cell_type": "code",
   "execution_count": null,
   "metadata": {},
   "outputs": [],
   "source": []
  },
  {
   "cell_type": "code",
   "execution_count": null,
   "metadata": {},
   "outputs": [],
   "source": [
    "import math\n",
    "import pandas\n",
    "dfhs = pandas.read_csv(\"hochschulen_de_gps.csv\",\";\")\n",
    "dfhs.head()\n",
    "import folium\n",
    "m = folium.Map(\n",
    "    location=[50.75903915000001, 6.082028949780861],\n",
    "    zoom_start=10,\n",
    "    tiles='Stamen Terrain'\n",
    ")\n",
    "#for index, row in dfhs.iterrows():\n",
    "#    #print(\"%s %f %f\" % (row['Name'],row['latitude'],row['longitude']))\n",
    "#    if(not math.isnan(row['latitude'])):\n",
    "#    #if(row['latitude'].isnull()):\n",
    "#    #    print(\"data\")"
   ]
  },
  {
   "cell_type": "code",
   "execution_count": null,
   "metadata": {},
   "outputs": [],
   "source": []
  }
 ],
 "metadata": {
  "kernelspec": {
   "display_name": "Python 3",
   "language": "python",
   "name": "python3"
  },
  "language_info": {
   "codemirror_mode": {
    "name": "ipython",
    "version": 3
   },
   "file_extension": ".py",
   "mimetype": "text/x-python",
   "name": "python",
   "nbconvert_exporter": "python",
   "pygments_lexer": "ipython3",
   "version": "3.7.6"
  }
 },
 "nbformat": 4,
 "nbformat_minor": 4
}
