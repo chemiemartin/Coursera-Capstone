{
 "cells": [
  {
   "cell_type": "code",
   "execution_count": 53,
   "metadata": {},
   "outputs": [
    {
     "name": "stdout",
     "output_type": "stream",
     "text": [
      "{'Germany Rank 2020 ': {0: 1, 1: 2, 2: 3, 3: 4, 4: 5, 5: 6, 6: 7, 7: 8, 8: 9, 9: 10, 10: 11, 11: 12, 12: 13, 13: 13, 14: 15, 15: 15, 16: 15, 17: 18, 18: 19, 19: 20, 20: 21, 21: 22, 22: 23, 23: 24, 24: 24, 25: 26, 26: 26, 27: 26, 28: 26, 29: 26, 30: 26, 31: 32, 32: 32, 33: 32, 34: 32, 35: 36, 36: 36, 37: 36, 38: 36, 39: 40, 40: 41, 41: 41, 42: 41, 43: 41, 44: 45, 45: 45, 46: 45, 47: 48}, ' World University Rank 2020  ': {0: ' 32  ', 1: ' 43  ', 2: ' 44  ', 3: ' 74  ', 4: ' 80  ', 5: ' 86  ', 6: ' 91  ', 7: ' 99  ', 8: ' 105  ', 9: ' 117  ', 10: ' 125  ', 11: ' 141  ', 12: ' 149  ', 13: ' 149  ', 14: ' 157  ', 15: ' 157  ', 16: ' 157  ', 17: ' 163  ', 18: ' 166  ', 19: ' 175  ', 20: ' 183  ', 21: ' 189  ', 22: ' 194  ', 23: ' 201–250  ', 24: ' 201–250  ', 25: ' 251–300  ', 26: ' 251–300  ', 27: ' 251–300  ', 28: ' 251–300  ', 29: ' 251–300  ', 30: ' 251–300  ', 31: ' 301–350  ', 32: ' 301–350  ', 33: ' 301–350  ', 34: ' 301–350  ', 35: ' 351–400  ', 36: ' 351–400  ', 37: ' 351–400  ', 38: ' 351–400  ', 39: ' 401–500  ', 40: ' 501–600  ', 41: ' 501–600  ', 42: ' 501–600  ', 43: ' 501–600  ', 44: ' 601–800  ', 45: ' 601–800  ', 46: ' 601–800  ', 47: ' 801–1000  '}, 'University ': {0: 'LMU Munich ', 1: 'Technical University of Munich ', 2: 'Heidelberg  University ', 3: 'Humboldt University of Berlin ', 4: 'Charité - Universitätsmedizin Berlin ', 5: 'University of Freiburg ', 6: 'University of Tübingen ', 7: 'RWTH Aachen University ', 8: 'University of Bonn ', 9: 'Free University of Berlin ', 10: 'University of Göttingen ', 11: 'Ulm University ', 12: 'University of Hamburg ', 13: 'Technical University of Berlin ', 14: 'University of Cologne ', 15: 'University of Mannheim ', 16: 'TU Dresden ', 17: 'University of Würzburg ', 18: 'Bielefeld University ', 19: 'Karlsruhe Institute of Technology ', 20: 'University of Erlangen-Nuremberg ', 21: 'University of Münster ', 22: 'University of Duisburg-Essen ', 23: 'University of Hohenheim ', 24: 'University of Konstanz ', 25: 'University of Kiel ', 26: 'University of Passau ', 27: 'University of Potsdam ', 28: 'Ruhr University Bochum ', 29: 'University of Stuttgart ', 30: 'Technical University of Darmstadt ', 31: 'Goethe University Frankfurt ', 32: 'Jacobs University ', 33: 'Johannes Gutenberg University of Mainz ', 34: 'University of Marburg ', 35: 'University of Bayreuth ', 36: 'University of Bremen ', 37: 'Justus Liebig University Giessen ', 38: 'TU Dortmund University ', 39: 'Leibniz University Hanover ', 40: 'University of Greifswald ', 41: 'Hamburg University of Technology ', 42: 'University of Siegen ', 43: 'University of Wuppertal ', 44: 'Chemnitz University of Technology ', 45: 'University of Kaiserslautern ', 46: 'TU Braunschweig ', 47: 'Ilmenau University of Technology '}, 'City/Town': {0: 'Munich', 1: 'Munich', 2: 'Heidelberg', 3: 'Berlin', 4: 'Berlin', 5: 'Freiburg', 6: 'Tübingen', 7: 'Aachen', 8: 'Bonn', 9: 'Berlin', 10: 'Göttingen', 11: 'Ulm', 12: 'Hamburg', 13: 'Berlin', 14: 'Cologne', 15: 'Mannheim', 16: 'Dresden', 17: 'Würzburg', 18: 'Bielefield', 19: 'Karlsruhe', 20: 'Erlangen and Nuremburg', 21: 'Münster', 22: 'Duisburg', 23: 'Hohenheim', 24: 'Konstanz', 25: 'Kiel', 26: 'Passau', 27: 'Potsdam', 28: 'Bochum', 29: 'Stuttgart', 30: 'Darmstadt', 31: 'Frankfurt', 32: 'Bremen', 33: 'Mainz', 34: 'Marburg', 35: 'Bayreuth', 36: 'Bremen', 37: 'Giessen', 38: 'Dortmund', 39: 'Hanover', 40: 'Greifswald', 41: 'Hamburg', 42: 'Siegen', 43: 'Wuppertal', 44: 'Chemnitz', 45: 'Kaiserslautern', 46: 'Braunschweig', 47: 'Ilmenau'}}\n",
      "['Germany Rank 2020 ', ' World University Rank 2020  ', 'University ', 'City/Town']\n",
      "Munich\n",
      "Munich\n",
      "Heidelberg\n",
      "Berlin\n",
      "Berlin\n",
      "Freiburg\n",
      "Tübingen\n",
      "Aachen\n",
      "Bonn\n",
      "Berlin\n",
      "Göttingen\n",
      "Ulm\n",
      "Hamburg\n",
      "Berlin\n",
      "Cologne\n",
      "Mannheim\n",
      "Dresden\n",
      "Würzburg\n",
      "Bielefield\n",
      "Karlsruhe\n",
      "Erlangen and Nuremburg\n",
      "Münster\n",
      "Duisburg\n",
      "Hohenheim\n",
      "Konstanz\n",
      "Kiel\n",
      "Passau\n",
      "Potsdam\n",
      "Bochum\n",
      "Stuttgart\n",
      "Darmstadt\n",
      "Frankfurt\n",
      "Bremen\n",
      "Mainz\n",
      "Marburg\n",
      "Bayreuth\n",
      "Bremen\n",
      "Giessen\n",
      "Dortmund\n",
      "Hanover\n",
      "Greifswald\n",
      "Hamburg\n",
      "Siegen\n",
      "Wuppertal\n",
      "Chemnitz\n",
      "Kaiserslautern\n",
      "Braunschweig\n",
      "Ilmenau\n"
     ]
    }
   ],
   "source": [
    "import pandas as pd\n",
    "df_times = pd.read_csv('times_universityRanking.csv','\\t')\n",
    "df_times.head()\n",
    "#timesDict = df_times[[\"World University Rank 2020 \t\"]].to_dict()\n",
    "#timesDict = df_times[[\"Germany Rank 2020 \",\"University \",\"City/Town\"]].to_dict()\n",
    "timesDict = df_times.to_dict()\n",
    "print(timesDict)\n",
    "keys = []\n",
    "for key in timesDict:\n",
    "    keys.append(key)\n",
    "print(keys)\n",
    "timesDict_gps = []\n",
    "#for rank in timesDict['Germany Rank 2020 ']:\n",
    "#    print(\"%i rank %s\" % (rank,timesDict['City/Town']))\n",
    "from geopy.geocoders import Nominatim\n",
    "geolocator = Nominatim(user_agent=\"Nominatim\")\n",
    "for rank in timesDict[' World University Rank 2020  ']:\n",
    "    city = timesDict['City/Town'][rank]\n",
    "    #print(\"%i rank %s\" % (rank,timesDict['City/Town']))\n",
    "    print(city)\n",
    "    location = geolocator.geocode(city)\n",
    "    timesDict_gps.append( (timesDict[' World University Rank 2020  '][rank].strip(\" \"),location.latitude, location.longitude,location.address,timesDict['University '][rank]) )\n",
    "#for (rank,lat,long,city,uni) in timesDict_gps:\n",
    "#    print(\"%i %f %f %s %s\" % (rank,lat,long,city,uni))"
   ]
  },
  {
   "cell_type": "code",
   "execution_count": 79,
   "metadata": {
    "scrolled": true
   },
   "outputs": [
    {
     "name": "stdout",
     "output_type": "stream",
     "text": [
      "Cluster Number 1\t32\tLMU Munich \n",
      "Cluster Number 1\t43\tTechnical University of Munich \n",
      "Cluster Number 2\t74\tHumboldt University of Berlin \n",
      "Cluster Number 2\t80\tCharité - Universitätsmedizin Berlin \n",
      "Cluster Number 2\t117\tFree University of Berlin \n",
      "Cluster Number 2\t149\tTechnical University of Berlin \n",
      "Cluster Number 3\t99\tRWTH Aachen University \n",
      "Cluster Number 3\t105\tUniversity of Bonn \n",
      "Cluster Number 4\t44\tHeidelberg  University \n",
      "Cluster Number 4\t91\tUniversity of Tübingen \n",
      "Cluster Number 4\t141\tUlm University \n",
      "Cluster Number 5\t44\tHeidelberg  University \n",
      "Cluster Number 6\t149\tUniversity of Hamburg \n",
      "Cluster Number 7\t44\tHeidelberg  University \n"
     ]
    },
    {
     "name": "stderr",
     "output_type": "stream",
     "text": [
      "C:\\ProgramData\\Anaconda3\\lib\\site-packages\\ipykernel_launcher.py:7: DeprecationWarning: Vincenty is deprecated and is going to be removed in geopy 2.0. Use `geopy.distance.geodesic` (or the default `geopy.distance.distance`) instead, which is more accurate and always converges.\n",
      "  import sys\n"
     ]
    }
   ],
   "source": [
    "import geopy.distance\n",
    "for i,coord in enumerate(clusterCenters):\n",
    "    #print(\"Cluster Number %i\" %i)\n",
    "    #print(coord)\n",
    "    for (rank,lat,long,city,uni) in timesDict_gps:\n",
    "        #print(\"%s %f %f %s %s\" % (rank,lat,long,city,uni))\n",
    "        dist = geopy.distance.vincenty(coord, (lat,long)).km\n",
    "        if(dist<100):\n",
    "            #print(rank.find(\"–\"))\n",
    "            #print(rank)\n",
    "            if(rank.find(\"–\") == -1):\n",
    "                r = int(rank)\n",
    "                if(r<150):\n",
    "                    print(\"Cluster Number %i\\t%s\\t%s\" % (i+1,rank,uni))\n",
    "            #print(\"%s %f %f %s %s\" % (rank,lat,long,city,uni))"
   ]
  },
  {
   "cell_type": "code",
   "execution_count": null,
   "metadata": {},
   "outputs": [],
   "source": []
  },
  {
   "cell_type": "code",
   "execution_count": null,
   "metadata": {},
   "outputs": [],
   "source": []
  },
  {
   "cell_type": "code",
   "execution_count": null,
   "metadata": {},
   "outputs": [],
   "source": []
  },
  {
   "cell_type": "code",
   "execution_count": null,
   "metadata": {},
   "outputs": [],
   "source": []
  },
  {
   "cell_type": "code",
   "execution_count": null,
   "metadata": {},
   "outputs": [],
   "source": []
  },
  {
   "cell_type": "code",
   "execution_count": null,
   "metadata": {},
   "outputs": [],
   "source": []
  },
  {
   "cell_type": "code",
   "execution_count": null,
   "metadata": {},
   "outputs": [],
   "source": []
  },
  {
   "cell_type": "code",
   "execution_count": null,
   "metadata": {},
   "outputs": [],
   "source": []
  },
  {
   "cell_type": "code",
   "execution_count": null,
   "metadata": {},
   "outputs": [],
   "source": []
  },
  {
   "cell_type": "code",
   "execution_count": null,
   "metadata": {},
   "outputs": [],
   "source": []
  },
  {
   "cell_type": "code",
   "execution_count": null,
   "metadata": {},
   "outputs": [],
   "source": []
  },
  {
   "cell_type": "code",
   "execution_count": null,
   "metadata": {},
   "outputs": [],
   "source": []
  },
  {
   "cell_type": "code",
   "execution_count": null,
   "metadata": {},
   "outputs": [],
   "source": []
  },
  {
   "cell_type": "code",
   "execution_count": null,
   "metadata": {},
   "outputs": [],
   "source": []
  },
  {
   "cell_type": "code",
   "execution_count": null,
   "metadata": {},
   "outputs": [],
   "source": []
  },
  {
   "cell_type": "code",
   "execution_count": null,
   "metadata": {},
   "outputs": [],
   "source": []
  },
  {
   "cell_type": "code",
   "execution_count": null,
   "metadata": {},
   "outputs": [],
   "source": []
  },
  {
   "cell_type": "code",
   "execution_count": null,
   "metadata": {},
   "outputs": [],
   "source": []
  },
  {
   "cell_type": "code",
   "execution_count": null,
   "metadata": {},
   "outputs": [],
   "source": []
  },
  {
   "cell_type": "code",
   "execution_count": null,
   "metadata": {},
   "outputs": [],
   "source": []
  },
  {
   "cell_type": "code",
   "execution_count": null,
   "metadata": {},
   "outputs": [],
   "source": []
  },
  {
   "cell_type": "code",
   "execution_count": null,
   "metadata": {},
   "outputs": [],
   "source": []
  },
  {
   "cell_type": "code",
   "execution_count": null,
   "metadata": {},
   "outputs": [],
   "source": []
  },
  {
   "cell_type": "code",
   "execution_count": null,
   "metadata": {},
   "outputs": [],
   "source": []
  },
  {
   "cell_type": "code",
   "execution_count": null,
   "metadata": {},
   "outputs": [],
   "source": []
  },
  {
   "cell_type": "code",
   "execution_count": null,
   "metadata": {},
   "outputs": [],
   "source": []
  },
  {
   "cell_type": "code",
   "execution_count": 54,
   "metadata": {},
   "outputs": [
    {
     "name": "stdout",
     "output_type": "stream",
     "text": [
      "('32', 48.1371079, 11.5753822, 'München, Bayern, Deutschland', 'LMU Munich ')\n",
      "('43', 48.1371079, 11.5753822, 'München, Bayern, Deutschland', 'Technical University of Munich ')\n",
      "('44', 49.4093582, 8.694724, 'Heidelberg, Baden-Württemberg, Deutschland', 'Heidelberg  University ')\n",
      "('74', 52.5170365, 13.3888599, 'Berlin, Deutschland', 'Humboldt University of Berlin ')\n",
      "('80', 52.5170365, 13.3888599, 'Berlin, Deutschland', 'Charité - Universitätsmedizin Berlin ')\n",
      "('86', 47.9960901, 7.8494005, 'Freiburg im Breisgau, Baden-Württemberg, Deutschland', 'University of Freiburg ')\n",
      "('91', 48.5236164, 9.0535531, 'Tübingen, Landkreis Tübingen, Baden-Württemberg, Deutschland', 'University of Tübingen ')\n",
      "('99', 50.776351, 6.083862, 'Aachen, Städteregion Aachen, Nordrhein-Westfalen, Deutschland', 'RWTH Aachen University ')\n",
      "('105', 50.735851, 7.10066, 'Bonn, Nordrhein-Westfalen, Deutschland', 'University of Bonn ')\n",
      "('117', 52.5170365, 13.3888599, 'Berlin, Deutschland', 'Free University of Berlin ')\n",
      "('125', 51.5327604, 9.9352051, 'Göttingen, Landkreis Göttingen, Niedersachsen, Deutschland', 'University of Göttingen ')\n",
      "('141', 48.3974003, 9.9934336, 'Ulm, Baden-Württemberg, Deutschland', 'Ulm University ')\n",
      "('149', 53.5437641, 10.0099133, 'Hamburg, Deutschland', 'University of Hamburg ')\n",
      "('149', 52.5170365, 13.3888599, 'Berlin, Deutschland', 'Technical University of Berlin ')\n",
      "('157', 50.938361, 6.959974, 'Köln, Nordrhein-Westfalen, Deutschland', 'University of Cologne ')\n",
      "('157', 49.489591, 8.467236, 'Mannheim, Baden-Württemberg, Deutschland', 'University of Mannheim ')\n",
      "('157', 51.0493286, 13.7381437, 'Dresden, Sachsen, Deutschland', 'TU Dresden ')\n",
      "('163', 49.79245, 9.932966, 'Würzburg, Bayern, Deutschland', 'University of Würzburg ')\n",
      "('166', 41.5384309, -72.6513812, 'Bielefield Road, Bretton Heights, Middletown, Middlesex County, Connecticut, 06459, United States of America', 'Bielefeld University ')\n",
      "('175', 49.0068705, 8.4034195, 'Karlsruhe, Baden-Württemberg, Deutschland', 'Karlsruhe Institute of Technology ')\n",
      "('183', 49.45832195, 11.085460002029178, 'Friedrich-Alexander-Universität Erlangen-Nürnberg, Maxtormauer, Altstadt, St. Sebald, Gärten hinter der Veste, Nürnberg, Bayern, 90403, Deutschland', 'University of Erlangen-Nuremberg ')\n",
      "('189', 51.9625101, 7.6251879, 'Münster, Nordrhein-Westfalen, Deutschland', 'University of Münster ')\n",
      "('194', 51.434999, 6.759562, 'Duisburg, Nordrhein-Westfalen, Deutschland', 'University of Duisburg-Essen ')\n",
      "('201–250', 48.712021899999996, 9.215719072656148, 'Hohenheim, Plieningen, Stuttgart, Baden-Württemberg, 70599, Deutschland', 'University of Hohenheim ')\n",
      "('201–250', 47.659216, 9.1750718, 'Konstanz, Verwaltungsgemeinschaft Konstanz, Landkreis Konstanz, Baden-Württemberg, Deutschland', 'University of Konstanz ')\n",
      "('251–300', 54.3227085, 10.135555, 'Kiel, Schleswig-Holstein, Deutschland', 'University of Kiel ')\n",
      "('251–300', 48.5748229, 13.4609744, 'Passau, Bayern, Deutschland', 'University of Passau ')\n",
      "('251–300', 52.4009309, 13.0591397, 'Potsdam, Brandenburg, Deutschland', 'University of Potsdam ')\n",
      "('251–300', 51.4818111, 7.2196635, 'Bochum, Nordrhein-Westfalen, Deutschland', 'Ruhr University Bochum ')\n",
      "('251–300', 48.7784485, 9.1800132, 'Stuttgart, Baden-Württemberg, Deutschland', 'University of Stuttgart ')\n",
      "('251–300', 49.872775, 8.651177, 'Darmstadt, Hessen, Deutschland', 'Technical University of Darmstadt ')\n",
      "('301–350', 50.1106444, 8.6820917, 'Frankfurt am Main, Hessen, Deutschland', 'Goethe University Frankfurt ')\n",
      "('301–350', 53.0758196, 8.8071646, 'Bremen, Deutschland', 'Jacobs University ')\n",
      "('301–350', 50.0012314, 8.2762513, 'Mainz, Rheinland-Pfalz, Deutschland', 'Johannes Gutenberg University of Mainz ')\n",
      "('301–350', 50.8117327, 8.7757742, 'Marburg, Landkreis Marburg-Biedenkopf, Hessen, Deutschland', 'University of Marburg ')\n",
      "('351–400', 49.9427202, 11.5763079, 'Bayreuth, Bayern, Deutschland', 'University of Bayreuth ')\n",
      "('351–400', 53.0758196, 8.8071646, 'Bremen, Deutschland', 'University of Bremen ')\n",
      "('351–400', 50.5862066, 8.6742306, 'Gießen, Landkreis Gießen, Hessen, Deutschland', 'Justus Liebig University Giessen ')\n",
      "('351–400', 51.5142273, 7.4652789, 'Dortmund, Nordrhein-Westfalen, Deutschland', 'TU Dortmund University ')\n",
      "('401–500', 52.3744779, 9.7385532, 'Hannover, Region Hannover, Niedersachsen, Deutschland', 'Leibniz University Hanover ')\n",
      "('501–600', 54.095791, 13.3815238, 'Greifswald, Vorpommern-Greifswald, Mecklenburg-Vorpommern, Deutschland', 'University of Greifswald ')\n",
      "('501–600', 53.5437641, 10.0099133, 'Hamburg, Deutschland', 'Hamburg University of Technology ')\n",
      "('501–600', 50.8749804, 8.0227233, 'Siegen, Kreis Siegen-Wittgenstein, Nordrhein-Westfalen, Deutschland', 'University of Siegen ')\n",
      "('501–600', 51.264018, 7.1780374, 'Wuppertal, Nordrhein-Westfalen, Deutschland', 'University of Wuppertal ')\n",
      "('601–800', 50.8322608, 12.9252977, 'Chemnitz, Sachsen, Deutschland', 'Chemnitz University of Technology ')\n",
      "('601–800', 49.4432174, 7.7689951, 'Kaiserslautern, Rheinland-Pfalz, Deutschland', 'University of Kaiserslautern ')\n",
      "('601–800', 52.2646577, 10.5236066, 'Braunschweig, Niedersachsen, Deutschland', 'TU Braunschweig ')\n",
      "('801–1000', 50.6867695, 10.9142385, 'Ilmenau, Ilm-Kreis, Thüringen, Deutschland', 'Ilmenau University of Technology ')\n"
     ]
    }
   ],
   "source": [
    "for s in timesDict_gps:\n",
    "    print(s)"
   ]
  },
  {
   "cell_type": "code",
   "execution_count": null,
   "metadata": {},
   "outputs": [],
   "source": []
  },
  {
   "cell_type": "code",
   "execution_count": null,
   "metadata": {},
   "outputs": [],
   "source": []
  },
  {
   "cell_type": "code",
   "execution_count": null,
   "metadata": {},
   "outputs": [],
   "source": []
  },
  {
   "cell_type": "code",
   "execution_count": null,
   "metadata": {},
   "outputs": [],
   "source": []
  },
  {
   "cell_type": "code",
   "execution_count": null,
   "metadata": {},
   "outputs": [],
   "source": []
  },
  {
   "cell_type": "code",
   "execution_count": 37,
   "metadata": {},
   "outputs": [],
   "source": [
    "clusterCenters = [(48.1396852909091, 11.574660390561847), (52.49932102857143, 13.345564755162135), (51.30897966022728, 7.176198619610907), (48.761562714285716, 9.18511184298376), (50.11276830416666, 8.626824078393186), (53.554746291176464, 9.959580434405437), (49.41445581538461, 8.487741071794243)]"
   ]
  },
  {
   "cell_type": "code",
   "execution_count": 46,
   "metadata": {},
   "outputs": [
    {
     "data": {
      "image/png": "[encoded data removed]",
      "text/plain": [
       "<Figure size 432x288 with 1 Axes>"
      ]
     },
     "metadata": {
      "needs_background": "light"
     },
     "output_type": "display_data"
    }
   ],
   "source": [
    "import numpy as np\n",
    "import matplotlib.pyplot as plt\n",
    "plt.subplot(221)\n",
    "plt.ylim(46,55)\n",
    "plt.xlim(0,20)\n",
    "for (cx,cy) in clusterCenters:\n",
    "    plt.plot(cy,cx,'o', markerfacecolor=(0,0,0),markeredgecolor='k', markersize=3)\n",
    "    "
   ]
  },
  {
   "cell_type": "code",
   "execution_count": null,
   "metadata": {},
   "outputs": [],
   "source": [
    "points = []\n",
    "for (cx,cy) in clusterCenters:\n",
    "    for (lat,long,city,uni) in timesDict_gps:\n",
    "        print(\"%f %f %s %s\" % (lat,long,city,uni))"
   ]
  },
  {
   "cell_type": "code",
   "execution_count": null,
   "metadata": {},
   "outputs": [],
   "source": []
  },
  {
   "cell_type": "code",
   "execution_count": null,
   "metadata": {},
   "outputs": [],
   "source": []
  },
  {
   "cell_type": "code",
   "execution_count": null,
   "metadata": {},
   "outputs": [],
   "source": []
  },
  {
   "cell_type": "code",
   "execution_count": null,
   "metadata": {},
   "outputs": [],
   "source": []
  },
  {
   "cell_type": "code",
   "execution_count": null,
   "metadata": {},
   "outputs": [],
   "source": []
  },
  {
   "cell_type": "code",
   "execution_count": null,
   "metadata": {},
   "outputs": [],
   "source": []
  },
  {
   "cell_type": "code",
   "execution_count": null,
   "metadata": {},
   "outputs": [],
   "source": []
  },
  {
   "cell_type": "code",
   "execution_count": null,
   "metadata": {},
   "outputs": [],
   "source": []
  },
  {
   "cell_type": "code",
   "execution_count": null,
   "metadata": {},
   "outputs": [],
   "source": []
  },
  {
   "cell_type": "code",
   "execution_count": null,
   "metadata": {},
   "outputs": [],
   "source": []
  },
  {
   "cell_type": "code",
   "execution_count": null,
   "metadata": {},
   "outputs": [],
   "source": []
  },
  {
   "cell_type": "code",
   "execution_count": null,
   "metadata": {},
   "outputs": [],
   "source": []
  },
  {
   "cell_type": "code",
   "execution_count": null,
   "metadata": {},
   "outputs": [],
   "source": []
  },
  {
   "cell_type": "code",
   "execution_count": null,
   "metadata": {},
   "outputs": [],
   "source": []
  },
  {
   "cell_type": "code",
   "execution_count": null,
   "metadata": {},
   "outputs": [],
   "source": []
  },
  {
   "cell_type": "code",
   "execution_count": null,
   "metadata": {},
   "outputs": [],
   "source": []
  },
  {
   "cell_type": "code",
   "execution_count": null,
   "metadata": {},
   "outputs": [],
   "source": []
  },
  {
   "cell_type": "code",
   "execution_count": null,
   "metadata": {},
   "outputs": [],
   "source": []
  },
  {
   "cell_type": "code",
   "execution_count": null,
   "metadata": {},
   "outputs": [],
   "source": []
  },
  {
   "cell_type": "code",
   "execution_count": null,
   "metadata": {},
   "outputs": [],
   "source": []
  },
  {
   "cell_type": "code",
   "execution_count": null,
   "metadata": {},
   "outputs": [],
   "source": []
  },
  {
   "cell_type": "code",
   "execution_count": null,
   "metadata": {},
   "outputs": [],
   "source": []
  },
  {
   "cell_type": "code",
   "execution_count": null,
   "metadata": {},
   "outputs": [],
   "source": []
  },
  {
   "cell_type": "code",
   "execution_count": null,
   "metadata": {},
   "outputs": [],
   "source": []
  },
  {
   "cell_type": "code",
   "execution_count": null,
   "metadata": {},
   "outputs": [],
   "source": []
  },
  {
   "cell_type": "code",
   "execution_count": null,
   "metadata": {},
   "outputs": [],
   "source": []
  },
  {
   "cell_type": "code",
   "execution_count": null,
   "metadata": {},
   "outputs": [],
   "source": []
  },
  {
   "cell_type": "code",
   "execution_count": null,
   "metadata": {},
   "outputs": [],
   "source": []
  },
  {
   "cell_type": "code",
   "execution_count": null,
   "metadata": {},
   "outputs": [],
   "source": []
  },
  {
   "cell_type": "code",
   "execution_count": null,
   "metadata": {},
   "outputs": [],
   "source": []
  },
  {
   "cell_type": "code",
   "execution_count": null,
   "metadata": {},
   "outputs": [],
   "source": []
  },
  {
   "cell_type": "code",
   "execution_count": null,
   "metadata": {},
   "outputs": [],
   "source": []
  },
  {
   "cell_type": "code",
   "execution_count": null,
   "metadata": {},
   "outputs": [],
   "source": []
  },
  {
   "cell_type": "code",
   "execution_count": null,
   "metadata": {},
   "outputs": [],
   "source": []
  },
  {
   "cell_type": "code",
   "execution_count": null,
   "metadata": {},
   "outputs": [],
   "source": []
  },
  {
   "cell_type": "code",
   "execution_count": null,
   "metadata": {},
   "outputs": [],
   "source": []
  },
  {
   "cell_type": "code",
   "execution_count": null,
   "metadata": {},
   "outputs": [],
   "source": []
  },
  {
   "cell_type": "code",
   "execution_count": null,
   "metadata": {},
   "outputs": [],
   "source": []
  },
  {
   "cell_type": "code",
   "execution_count": null,
   "metadata": {},
   "outputs": [],
   "source": []
  },
  {
   "cell_type": "code",
   "execution_count": null,
   "metadata": {},
   "outputs": [],
   "source": []
  },
  {
   "cell_type": "code",
   "execution_count": null,
   "metadata": {},
   "outputs": [],
   "source": []
  },
  {
   "cell_type": "code",
   "execution_count": null,
   "metadata": {},
   "outputs": [],
   "source": [
    "df_mercer_gps = pd.read_csv(\"mercer_germanCities_GPS.csv\",\"\\t\")\n",
    "df_mercer_gps.head()\n",
    "myDict = df_mercer_gps[[\"City \",\"Lat\",\"Long\",\"Rank \"]].to_dict()"
   ]
  },
  {
   "cell_type": "code",
   "execution_count": null,
   "metadata": {},
   "outputs": [],
   "source": []
  }
 ],
 "metadata": {
  "kernelspec": {
   "display_name": "Python 3",
   "language": "python",
   "name": "python3"
  },
  "language_info": {
   "codemirror_mode": {
    "name": "ipython",
    "version": 3
   },
   "file_extension": ".py",
   "mimetype": "text/x-python",
   "name": "python",
   "nbconvert_exporter": "python",
   "pygments_lexer": "ipython3",
   "version": "3.7.6"
  }
 },
 "nbformat": 4,
 "nbformat_minor": 4
}
