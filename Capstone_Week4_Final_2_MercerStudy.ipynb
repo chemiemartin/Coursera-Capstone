{
 "cells": [
  {
   "cell_type": "code",
   "execution_count": 2,
   "metadata": {},
   "outputs": [
    {
     "name": "stdout",
     "output_type": "stream",
     "text": [
      "{'City ': {0: 'Munich ', 1: 'Düsseldorf ', 2: 'Frankfurt ', 3: 'Berlin ', 4: 'Hamburg ', 5: 'Nuremburg ', 6: 'Stuttgart ', 7: 'Leipzig '}, 'Lat': {0: 11.575482, 1: 6.773751, 2: 8.682093, 3: 13.38886, 4: 10.000654, 5: 11.077298, 6: 9.180046, 7: 12.381055}, 'Long': {0: 48.137272, 1: 51.225197, 2: 50.110653000000006, 3: 52.517036, 4: 53.55034300000001, 5: 49.453873, 6: 48.778492, 7: 51.339184}, 'Rank ': {0: 3, 1: 6, 2: 7, 3: 13, 4: 19, 5: 23, 6: 27, 7: 60}}\n",
      "************************\n",
      "['Munich, Germany', 'Düsseldorf, Germany', 'Frankfurt, Germany', 'Berlin, Germany', 'Hamburg, Germany', 'Nuremburg, Germany', 'Stuttgart, Germany', 'Leipzig, Germany']\n",
      "[3, 6, 7, 13, 19, 23, 27, 60]\n"
     ]
    }
   ],
   "source": [
    "import pandas as pd\n",
    "df_mercer_gps = pd.read_csv(\"mercer_germanCities_GPS.csv\",\"\\t\")\n",
    "df_mercer_gps.head()\n",
    "myDict = df_mercer_gps[[\"City \",\"Lat\",\"Long\",\"Rank \"]].to_dict()\n",
    "print(myDict)\n",
    "print(\"************************\")\n",
    "cities = [myDict['City '][i].strip()+\", Germany\" for i in myDict['City '] ]\n",
    "rank = [myDict['Rank '][i] for i in myDict['City '] ]\n",
    "print(cities)\n",
    "print(rank)"
   ]
  },
  {
   "cell_type": "code",
   "execution_count": 3,
   "metadata": {},
   "outputs": [
    {
     "name": "stdout",
     "output_type": "stream",
     "text": [
      "************************\n",
      "************************\n",
      "************************\n",
      "************************\n",
      "************************\n",
      "************************\n",
      "************************\n",
      "************************\n",
      "{'Munich, Germany': (48.1371079, 11.5753822, 'München, Bayern, Deutschland', 3), 'Düsseldorf, Germany': (51.2254018, 6.7763137, 'Düsseldorf, Nordrhein-Westfalen, Deutschland', 6), 'Frankfurt, Germany': (50.1106444, 8.6820917, 'Frankfurt am Main, Hessen, Deutschland', 7), 'Berlin, Germany': (52.5170365, 13.3888599, 'Berlin, Deutschland', 13), 'Hamburg, Germany': (53.5437641, 10.0099133, 'Hamburg, Deutschland', 19), 'Nuremburg, Germany': (49.453872, 11.077298, 'Nürnberg, Bayern, Deutschland', 23), 'Stuttgart, Germany': (48.7784485, 9.1800132, 'Stuttgart, Baden-Württemberg, Deutschland', 27), 'Leipzig, Germany': (51.3406321, 12.3747329, 'Leipzig, Sachsen, Deutschland', 60)}\n"
     ]
    }
   ],
   "source": [
    "cities = ['Munich, Germany', 'Düsseldorf, Germany', 'Frankfurt, Germany', 'Berlin, Germany', 'Hamburg, Germany', 'Nuremburg, Germany', 'Stuttgart, Germany', 'Leipzig, Germany']\n",
    "rank = [3, 6, 7, 13, 19, 23, 27, 60]\n",
    "from geopy.geocoders import Nominatim\n",
    "geolocator = Nominatim(user_agent=\"Nominatim\")\n",
    "cityLocationDict = dict()\n",
    "for i,city in enumerate(cities):\n",
    "    print(\"************************\")\n",
    "    location = geolocator.geocode(city)\n",
    "    cityLocationDict[city] = (location.latitude, location.longitude,location.address,rank[i])\n",
    "    #print(location.address)\n",
    "    #print((location.latitude, location.longitude))\n",
    "    #print(location.raw)\n",
    "    \n",
    "print(cityLocationDict)"
   ]
  },
  {
   "cell_type": "code",
   "execution_count": 4,
   "metadata": {},
   "outputs": [],
   "source": [
    "import folium\n",
    "from folium.features import DivIcon\n",
    "cityLocationDict = {'Munich, Germany': (48.1371079, 11.5753822, 'München, Bayern, Deutschland', 3), 'Düsseldorf, Germany': (51.2254018, 6.7763137, 'Düsseldorf, Nordrhein-Westfalen, Deutschland', 6), 'Frankfurt, Germany': (50.1106444, 8.6820917, 'Frankfurt am Main, Hessen, Deutschland', 7), 'Berlin, Germany': (52.5170365, 13.3888599, 'Berlin, Deutschland', 13), 'Hamburg, Germany': (53.5437641, 10.0099133, 'Hamburg, Deutschland', 19), 'Nuremburg, Germany': (49.453872, 11.077298, 'Nürnberg, Bayern, Deutschland', 23), 'Stuttgart, Germany': (48.7784485, 9.1800132, 'Stuttgart, Baden-Württemberg, Deutschland', 27), 'Leipzig, Germany': (51.3406321, 12.3747329, 'Leipzig, Sachsen, Deutschland', 60)}\n",
    "\n",
    "world_map = folium.Map(tiles=\"Stamen Toner\",location=[51.3154546,9.4924096],zoom_start=6)\n",
    "#world_map\n",
    "zuHause = folium.map.FeatureGroup()\n",
    "i=1\n",
    "for citLoc in cityLocationDict:\n",
    "    names = citLoc.split(\",\")\n",
    "    (long,lat,name,rank) = cityLocationDict[citLoc]\n",
    "    #zuHause.add_child(folium.features.Marker([long,lat], radius=5,color='red',fill_color=\"Red\",popup=name))\n",
    "    folium.map.Marker(\n",
    "    [long,lat],\n",
    "    icon=DivIcon(\n",
    "        icon_size=(150,36),\n",
    "        icon_anchor=(0,0),\n",
    "        html='<div style=\"color:Tomato;font-size: 25px;\">'+ str(rank)+\" \"+names[0] + '</div>',\n",
    "        )\n",
    "    ).add_to(zuHause)\n",
    "    i=i+1\n",
    "world_map.add_child(zuHause)\n",
    "world_map.save(\"mercerQualityOfLiving.html\")"
   ]
  },
  {
   "cell_type": "code",
   "execution_count": null,
   "metadata": {},
   "outputs": [],
   "source": []
  },
  {
   "cell_type": "code",
   "execution_count": null,
   "metadata": {},
   "outputs": [],
   "source": []
  },
  {
   "cell_type": "code",
   "execution_count": null,
   "metadata": {},
   "outputs": [],
   "source": []
  }
 ],
 "metadata": {
  "kernelspec": {
   "display_name": "Python 3",
   "language": "python",
   "name": "python3"
  },
  "language_info": {
   "codemirror_mode": {
    "name": "ipython",
    "version": 3
   },
   "file_extension": ".py",
   "mimetype": "text/x-python",
   "name": "python",
   "nbconvert_exporter": "python",
   "pygments_lexer": "ipython3",
   "version": "3.7.6"
  }
 },
 "nbformat": 4,
 "nbformat_minor": 4
}
